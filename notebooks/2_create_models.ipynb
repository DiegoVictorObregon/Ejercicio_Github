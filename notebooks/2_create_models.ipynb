{
 "cells": [
  {
   "cell_type": "markdown",
   "id": "686f73f5-4153-485c-8741-f003a63e03e7",
   "metadata": {},
   "source": [
    "## Carga de Librerias"
   ]
  },
  {
   "cell_type": "code",
   "execution_count": 51,
   "id": "bf885413-09a2-4427-a8c7-1e4718e40267",
   "metadata": {
    "tags": []
   },
   "outputs": [],
   "source": [
    "import pandas as pd\n",
    "from sklearn.model_selection import train_test_split\n",
    "from sklearn.linear_model import LogisticRegression\n",
    "from sklearn.metrics import accuracy_score, confusion_matrix"
   ]
  },
  {
   "cell_type": "markdown",
   "id": "aeba2a00-4eb3-4e80-bbab-c2cadab55544",
   "metadata": {
    "tags": []
   },
   "source": [
    "# Carga de datos Procesados"
   ]
  },
  {
   "cell_type": "code",
   "execution_count": 54,
   "id": "1a145ebc-b581-4874-96e4-904439b950a7",
   "metadata": {
    "tags": []
   },
   "outputs": [
    {
     "data": {
      "text/html": [
       "<div>\n",
       "<style scoped>\n",
       "    .dataframe tbody tr th:only-of-type {\n",
       "        vertical-align: middle;\n",
       "    }\n",
       "\n",
       "    .dataframe tbody tr th {\n",
       "        vertical-align: top;\n",
       "    }\n",
       "\n",
       "    .dataframe thead th {\n",
       "        text-align: right;\n",
       "    }\n",
       "</style>\n",
       "<table border=\"1\" class=\"dataframe\">\n",
       "  <thead>\n",
       "    <tr style=\"text-align: right;\">\n",
       "      <th></th>\n",
       "      <th>PassengerId</th>\n",
       "      <th>Survived</th>\n",
       "      <th>Pclass</th>\n",
       "      <th>Name</th>\n",
       "      <th>Age</th>\n",
       "      <th>SibSp</th>\n",
       "      <th>Parch</th>\n",
       "      <th>Ticket</th>\n",
       "      <th>Fare</th>\n",
       "      <th>Cabin</th>\n",
       "      <th>Embarked_C</th>\n",
       "      <th>Embarked_Q</th>\n",
       "      <th>Embarked_S</th>\n",
       "      <th>Sex_female</th>\n",
       "      <th>Sex_male</th>\n",
       "    </tr>\n",
       "  </thead>\n",
       "  <tbody>\n",
       "    <tr>\n",
       "      <th>0</th>\n",
       "      <td>1</td>\n",
       "      <td>0</td>\n",
       "      <td>3</td>\n",
       "      <td>Braund, Mr. Owen Harris</td>\n",
       "      <td>-0.565736</td>\n",
       "      <td>1</td>\n",
       "      <td>0</td>\n",
       "      <td>A/5 21171</td>\n",
       "      <td>7.2500</td>\n",
       "      <td>NaN</td>\n",
       "      <td>False</td>\n",
       "      <td>False</td>\n",
       "      <td>True</td>\n",
       "      <td>False</td>\n",
       "      <td>True</td>\n",
       "    </tr>\n",
       "    <tr>\n",
       "      <th>1</th>\n",
       "      <td>2</td>\n",
       "      <td>1</td>\n",
       "      <td>1</td>\n",
       "      <td>Cumings, Mrs. John Bradley (Florence Briggs Th...</td>\n",
       "      <td>0.663861</td>\n",
       "      <td>1</td>\n",
       "      <td>0</td>\n",
       "      <td>PC 17599</td>\n",
       "      <td>71.2833</td>\n",
       "      <td>C85</td>\n",
       "      <td>True</td>\n",
       "      <td>False</td>\n",
       "      <td>False</td>\n",
       "      <td>True</td>\n",
       "      <td>False</td>\n",
       "    </tr>\n",
       "    <tr>\n",
       "      <th>2</th>\n",
       "      <td>3</td>\n",
       "      <td>1</td>\n",
       "      <td>3</td>\n",
       "      <td>Heikkinen, Miss. Laina</td>\n",
       "      <td>-0.258337</td>\n",
       "      <td>0</td>\n",
       "      <td>0</td>\n",
       "      <td>STON/O2. 3101282</td>\n",
       "      <td>7.9250</td>\n",
       "      <td>NaN</td>\n",
       "      <td>False</td>\n",
       "      <td>False</td>\n",
       "      <td>True</td>\n",
       "      <td>True</td>\n",
       "      <td>False</td>\n",
       "    </tr>\n",
       "    <tr>\n",
       "      <th>3</th>\n",
       "      <td>4</td>\n",
       "      <td>1</td>\n",
       "      <td>1</td>\n",
       "      <td>Futrelle, Mrs. Jacques Heath (Lily May Peel)</td>\n",
       "      <td>0.433312</td>\n",
       "      <td>1</td>\n",
       "      <td>0</td>\n",
       "      <td>113803</td>\n",
       "      <td>53.1000</td>\n",
       "      <td>C123</td>\n",
       "      <td>False</td>\n",
       "      <td>False</td>\n",
       "      <td>True</td>\n",
       "      <td>True</td>\n",
       "      <td>False</td>\n",
       "    </tr>\n",
       "    <tr>\n",
       "      <th>4</th>\n",
       "      <td>5</td>\n",
       "      <td>0</td>\n",
       "      <td>3</td>\n",
       "      <td>Allen, Mr. William Henry</td>\n",
       "      <td>0.433312</td>\n",
       "      <td>0</td>\n",
       "      <td>0</td>\n",
       "      <td>373450</td>\n",
       "      <td>8.0500</td>\n",
       "      <td>NaN</td>\n",
       "      <td>False</td>\n",
       "      <td>False</td>\n",
       "      <td>True</td>\n",
       "      <td>False</td>\n",
       "      <td>True</td>\n",
       "    </tr>\n",
       "  </tbody>\n",
       "</table>\n",
       "</div>"
      ],
      "text/plain": [
       "   PassengerId  Survived  Pclass  \\\n",
       "0            1         0       3   \n",
       "1            2         1       1   \n",
       "2            3         1       3   \n",
       "3            4         1       1   \n",
       "4            5         0       3   \n",
       "\n",
       "                                                Name       Age  SibSp  Parch  \\\n",
       "0                            Braund, Mr. Owen Harris -0.565736      1      0   \n",
       "1  Cumings, Mrs. John Bradley (Florence Briggs Th...  0.663861      1      0   \n",
       "2                             Heikkinen, Miss. Laina -0.258337      0      0   \n",
       "3       Futrelle, Mrs. Jacques Heath (Lily May Peel)  0.433312      1      0   \n",
       "4                           Allen, Mr. William Henry  0.433312      0      0   \n",
       "\n",
       "             Ticket     Fare Cabin  Embarked_C  Embarked_Q  Embarked_S  \\\n",
       "0         A/5 21171   7.2500   NaN       False       False        True   \n",
       "1          PC 17599  71.2833   C85        True       False       False   \n",
       "2  STON/O2. 3101282   7.9250   NaN       False       False        True   \n",
       "3            113803  53.1000  C123       False       False        True   \n",
       "4            373450   8.0500   NaN       False       False        True   \n",
       "\n",
       "   Sex_female  Sex_male  \n",
       "0       False      True  \n",
       "1        True     False  \n",
       "2        True     False  \n",
       "3        True     False  \n",
       "4       False      True  "
      ]
     },
     "execution_count": 54,
     "metadata": {},
     "output_type": "execute_result"
    }
   ],
   "source": [
    "train_data = pd.read_csv('../data/processed/train_processed.csv')\n",
    "train_data.head()\n"
   ]
  },
  {
   "cell_type": "markdown",
   "id": "26211c55-e41d-45d9-b768-814243d88c39",
   "metadata": {},
   "source": [
    "# Configuramos nuestras variables"
   ]
  },
  {
   "cell_type": "code",
   "execution_count": 57,
   "id": "5902c049-b902-4d1f-bcc3-87ff333c8409",
   "metadata": {
    "tags": []
   },
   "outputs": [],
   "source": [
    "# Separar las características y la variable objetivo\n",
    "X = train_data.drop('Survived', axis=1)  # 'Survived' es la columna objetivo\n",
    "y = train_data['Survived']\n"
   ]
  },
  {
   "cell_type": "code",
   "execution_count": 59,
   "id": "2f03b174-db2c-46e7-848f-ac1e64e2e9ca",
   "metadata": {
    "tags": []
   },
   "outputs": [
    {
     "name": "stdout",
     "output_type": "stream",
     "text": [
      "Columnas después de eliminar no numéricas: Index(['PassengerId', 'Pclass', 'Age', 'SibSp', 'Parch', 'Fare', 'Embarked_C',\n",
      "       'Embarked_Q', 'Embarked_S', 'Sex_female', 'Sex_male'],\n",
      "      dtype='object')\n"
     ]
    }
   ],
   "source": [
    "# Eliminar columnas que no son útiles para el modelado\n",
    "if 'Name' in X.columns:\n",
    "    X = X.drop(['Name', 'Ticket', 'Cabin'], axis=1)\n",
    "\n",
    "# Verificar las columnas restantes\n",
    "print(\"Columnas después de eliminar no numéricas:\", X.columns)\n"
   ]
  },
  {
   "cell_type": "markdown",
   "id": "89da2a9c-6e50-41cf-92fc-6a84d67f88a3",
   "metadata": {},
   "source": [
    "# Dividir train y test"
   ]
  },
  {
   "cell_type": "code",
   "execution_count": 61,
   "id": "46c99eb9-8ccf-4223-86dd-9343a2c60bae",
   "metadata": {
    "tags": []
   },
   "outputs": [
    {
     "name": "stdout",
     "output_type": "stream",
     "text": [
      "Dimensiones de X_train: (712, 11)\n",
      "Dimensiones de X_test: (179, 11)\n"
     ]
    }
   ],
   "source": [
    "# Dividir los datos en entrenamiento y prueba\n",
    "X_train, X_test, y_train, y_test = train_test_split(X, y, test_size=0.2, random_state=42)\n",
    "\n",
    "# Verificar las dimensiones\n",
    "print(\"Dimensiones de X_train:\", X_train.shape)\n",
    "print(\"Dimensiones de X_test:\", X_test.shape)\n"
   ]
  },
  {
   "cell_type": "code",
   "execution_count": 63,
   "id": "0a82cab7-7eee-4a1f-8843-5de26f4dfb1c",
   "metadata": {
    "tags": []
   },
   "outputs": [
    {
     "name": "stdout",
     "output_type": "stream",
     "text": [
      "<class 'pandas.core.frame.DataFrame'>\n",
      "Index: 712 entries, 331 to 102\n",
      "Data columns (total 11 columns):\n",
      " #   Column       Non-Null Count  Dtype  \n",
      "---  ------       --------------  -----  \n",
      " 0   PassengerId  712 non-null    int64  \n",
      " 1   Pclass       712 non-null    int64  \n",
      " 2   Age          712 non-null    float64\n",
      " 3   SibSp        712 non-null    int64  \n",
      " 4   Parch        712 non-null    int64  \n",
      " 5   Fare         712 non-null    float64\n",
      " 6   Embarked_C   712 non-null    bool   \n",
      " 7   Embarked_Q   712 non-null    bool   \n",
      " 8   Embarked_S   712 non-null    bool   \n",
      " 9   Sex_female   712 non-null    bool   \n",
      " 10  Sex_male     712 non-null    bool   \n",
      "dtypes: bool(5), float64(2), int64(4)\n",
      "memory usage: 42.4 KB\n",
      "None\n",
      "Valores faltantes en X_train:\n",
      " PassengerId    0\n",
      "Pclass         0\n",
      "Age            0\n",
      "SibSp          0\n",
      "Parch          0\n",
      "Fare           0\n",
      "Embarked_C     0\n",
      "Embarked_Q     0\n",
      "Embarked_S     0\n",
      "Sex_female     0\n",
      "Sex_male       0\n",
      "dtype: int64\n"
     ]
    }
   ],
   "source": [
    "# Verificar si quedan columnas no numéricas\n",
    "print(X_train.info())\n",
    "\n",
    "# Verificar si hay valores faltantes\n",
    "print(\"Valores faltantes en X_train:\\n\", X_train.isnull().sum())\n"
   ]
  },
  {
   "cell_type": "markdown",
   "id": "7975cc06-7e54-4f64-9c80-7175ae4463f8",
   "metadata": {
    "tags": []
   },
   "source": [
    "# Construir y Entrenar Modelos"
   ]
  },
  {
   "cell_type": "code",
   "execution_count": 65,
   "id": "06ae9a75-879e-4441-a44d-5c35600a1f6e",
   "metadata": {
    "tags": []
   },
   "outputs": [
    {
     "name": "stdout",
     "output_type": "stream",
     "text": [
      "Modelo entrenado con éxito\n"
     ]
    }
   ],
   "source": [
    "# Crear el modelo de regresión logística\n",
    "model = LogisticRegression(max_iter=1000)\n",
    "\n",
    "# Entrenar el modelo\n",
    "model.fit(X_train, y_train)\n",
    "print(\"Modelo entrenado con éxito\")\n"
   ]
  },
  {
   "cell_type": "markdown",
   "id": "fd3be664-591a-4e7f-b372-e9a4d09be670",
   "metadata": {},
   "source": [
    "# Evaluar el Modelo"
   ]
  },
  {
   "cell_type": "code",
   "execution_count": 68,
   "id": "42088161-fd73-4f33-98d3-557e5b2b47ca",
   "metadata": {
    "tags": []
   },
   "outputs": [
    {
     "name": "stdout",
     "output_type": "stream",
     "text": [
      "Accuracy del modelo: 0.80\n",
      "Confusion Matrix:\n",
      " [[89 16]\n",
      " [19 55]]\n"
     ]
    }
   ],
   "source": [
    "# Hacer predicciones sobre el conjunto de prueba\n",
    "y_pred = model.predict(X_test)\n",
    "\n",
    "# Calcular la precisión\n",
    "accuracy = accuracy_score(y_test, y_pred)\n",
    "print(f'Accuracy del modelo: {accuracy:.2f}')\n",
    "\n",
    "# Generar y mostrar la matriz de confusión\n",
    "conf_matrix = confusion_matrix(y_test, y_pred)\n",
    "print(\"Confusion Matrix:\\n\", conf_matrix)\n"
   ]
  },
  {
   "cell_type": "markdown",
   "id": "810014f2-c561-4e06-acd9-4ace80cef059",
   "metadata": {},
   "source": [
    "### Precisión Global (Accuracy)"
   ]
  },
  {
   "cell_type": "code",
   "execution_count": 76,
   "id": "39ea5bd9-f289-436e-98f0-61e9546eb072",
   "metadata": {
    "tags": []
   },
   "outputs": [
    {
     "name": "stdout",
     "output_type": "stream",
     "text": [
      "Accuracy: 0.80\n"
     ]
    }
   ],
   "source": [
    "accuracy = (89 + 55) / (89 + 16 + 19 + 55)\n",
    "print(f\"Accuracy: {accuracy:.2f}\")\n"
   ]
  },
  {
   "cell_type": "markdown",
   "id": "fb85edad-0f3b-4113-9508-dabc391903fb",
   "metadata": {},
   "source": [
    "# Guardar los datos procesados"
   ]
  },
  {
   "cell_type": "code",
   "execution_count": 70,
   "id": "20272989-ab5b-4046-a607-10974c46f751",
   "metadata": {
    "tags": []
   },
   "outputs": [
    {
     "name": "stdout",
     "output_type": "stream",
     "text": [
      "Modelo guardado exitosamente en '../models/trained_logistic_regression_model.pkl'\n"
     ]
    }
   ],
   "source": [
    "import joblib\n",
    "\n",
    "# Guardar el modelo entrenado\n",
    "joblib.dump(model, '../models/trained_logistic_regression_model.pkl')\n",
    "print(\"Modelo guardado exitosamente en '../models/trained_logistic_regression_model.pkl'\")\n"
   ]
  },
  {
   "cell_type": "code",
   "execution_count": null,
   "id": "bca403a0-d0b9-4a81-931f-7c6b91508b7d",
   "metadata": {},
   "outputs": [],
   "source": []
  }
 ],
 "metadata": {
  "kernelspec": {
   "display_name": "Python 3 (ipykernel)",
   "language": "python",
   "name": "python3"
  },
  "language_info": {
   "codemirror_mode": {
    "name": "ipython",
    "version": 3
   },
   "file_extension": ".py",
   "mimetype": "text/x-python",
   "name": "python",
   "nbconvert_exporter": "python",
   "pygments_lexer": "ipython3",
   "version": "3.11.5"
  }
 },
 "nbformat": 4,
 "nbformat_minor": 5
}
