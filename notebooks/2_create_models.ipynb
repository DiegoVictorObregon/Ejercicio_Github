{
 "cells": [
  {
   "cell_type": "code",
   "execution_count": null,
   "id": "5bd6c928-8233-478c-8249-01ee736f4d77",
   "metadata": {},
   "outputs": [],
   "source": []
  }
 ],
 "metadata": {
  "kernelspec": {
   "display_name": "",
   "name": ""
  },
  "language_info": {
   "name": ""
  }
 },
 "nbformat": 4,
 "nbformat_minor": 5
}
