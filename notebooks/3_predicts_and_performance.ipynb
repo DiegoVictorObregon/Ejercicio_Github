{
 "cells": [
  {
   "cell_type": "markdown",
   "id": "295e2064-f76d-4aec-acf2-f6acab158d6d",
   "metadata": {},
   "source": [
    "# Carga de Librerias"
   ]
  },
  {
   "cell_type": "code",
   "execution_count": 4,
   "id": "b07a893f-119c-49b1-a5cb-20c37d08f611",
   "metadata": {
    "tags": []
   },
   "outputs": [],
   "source": [
    "import pandas as pd\n",
    "import joblib\n",
    "from sklearn.metrics import accuracy_score, confusion_matrix, classification_report\n"
   ]
  },
  {
   "cell_type": "markdown",
   "id": "b19f0161-2978-4dc1-8317-96160a65c98d",
   "metadata": {},
   "source": [
    "# Cargar el Modelo Entrenado"
   ]
  },
  {
   "cell_type": "code",
   "execution_count": 7,
   "id": "293d5f89-e463-433d-88a0-fedc87fa4903",
   "metadata": {
    "tags": []
   },
   "outputs": [
    {
     "name": "stdout",
     "output_type": "stream",
     "text": [
      "Modelo cargado exitosamente.\n"
     ]
    }
   ],
   "source": [
    "# Cargar el modelo entrenado\n",
    "model = joblib.load('../models/trained_logistic_regression_model.pkl')\n",
    "print(\"Modelo cargado exitosamente.\")\n"
   ]
  },
  {
   "cell_type": "markdown",
   "id": "27364d0d-5f93-4292-b370-8f15320a658c",
   "metadata": {},
   "source": [
    "# Preparar los Datos para las Predicciones"
   ]
  },
  {
   "cell_type": "code",
   "execution_count": 12,
   "id": "34e3fc1c-8f0a-4062-8419-094679ee89a4",
   "metadata": {
    "tags": []
   },
   "outputs": [
    {
     "name": "stdout",
     "output_type": "stream",
     "text": [
      "<class 'pandas.core.frame.DataFrame'>\n",
      "RangeIndex: 418 entries, 0 to 417\n",
      "Data columns (total 9 columns):\n",
      " #   Column       Non-Null Count  Dtype  \n",
      "---  ------       --------------  -----  \n",
      " 0   PassengerId  418 non-null    int64  \n",
      " 1   Pclass       418 non-null    int64  \n",
      " 2   Age          418 non-null    float64\n",
      " 3   SibSp        418 non-null    int64  \n",
      " 4   Parch        418 non-null    int64  \n",
      " 5   Fare         418 non-null    float64\n",
      " 6   Sex_male     418 non-null    bool   \n",
      " 7   Embarked_Q   418 non-null    bool   \n",
      " 8   Embarked_S   418 non-null    bool   \n",
      "dtypes: bool(3), float64(2), int64(4)\n",
      "memory usage: 20.9 KB\n",
      "None\n"
     ]
    }
   ],
   "source": [
    "# Eliminar columnas no necesarias\n",
    "if 'Name' in test_data.columns:\n",
    "    test_data = test_data.drop(['Name', 'Ticket', 'Cabin'], axis=1)\n",
    "\n",
    "# Codificar columnas categóricas\n",
    "test_data = pd.get_dummies(test_data, columns=['Sex', 'Embarked'], drop_first=True)\n",
    "\n",
    "# Asegurarse de que no hay valores faltantes en columnas numéricas\n",
    "test_data.fillna(test_data.median(numeric_only=True), inplace=True)\n",
    "\n",
    "# Verificar estructura final\n",
    "print(test_data.info())\n"
   ]
  },
  {
   "cell_type": "markdown",
   "id": "0a93d0ec-3a73-4f88-8493-76ad6cff5d45",
   "metadata": {
    "tags": []
   },
   "source": [
    "# Predicciones"
   ]
  },
  {
   "cell_type": "code",
   "execution_count": 21,
   "id": "79ebdf7a-728f-4cc3-8acc-31be8a25f6d8",
   "metadata": {
    "tags": []
   },
   "outputs": [
    {
     "name": "stdout",
     "output_type": "stream",
     "text": [
      "Predicciones generadas: [0 0 0 0 0 0 0 0 0 0]\n"
     ]
    }
   ],
   "source": [
    "# Incluir todas las columnas esperadas, incluyendo 'PassengerId'\n",
    "columns_fit = ['PassengerId', 'Pclass', 'Age', 'SibSp', 'Parch', 'Fare', \n",
    "               'Embarked_C', 'Embarked_Q', 'Embarked_S', 'Sex_female', 'Sex_male']\n",
    "\n",
    "# Reindexar el conjunto de prueba para asegurar el mismo orden de columnas\n",
    "test_data_aligned = test_data.reindex(columns=columns_fit, fill_value=0)\n",
    "\n",
    "# Generar predicciones\n",
    "predictions = model.predict(test_data_aligned)\n",
    "\n",
    "# Verificar las primeras predicciones\n",
    "print(\"Predicciones generadas:\", predictions[:10])\n"
   ]
  },
  {
   "cell_type": "markdown",
   "id": "3695d3f2-e168-4132-8a05-baa767fd5949",
   "metadata": {
    "tags": []
   },
   "source": [
    "# Predicciones"
   ]
  },
  {
   "cell_type": "code",
   "execution_count": 26,
   "id": "70f31261-7984-4d6a-93bd-6b550daef9fb",
   "metadata": {
    "tags": []
   },
   "outputs": [
    {
     "name": "stdout",
     "output_type": "stream",
     "text": [
      "Predicciones guardadas exitosamente en '../data/processed/final_predictions.csv'\n"
     ]
    }
   ],
   "source": [
    "# Crear un DataFrame con las predicciones\n",
    "output = pd.DataFrame({'PassengerId': test_data_aligned['PassengerId'], 'Survived': predictions})\n",
    "\n",
    "# Guardar el DataFrame en un archivo CSV\n",
    "output.to_csv('../data/processed/final_predictions.csv', index=False)\n",
    "print(\"Predicciones guardadas exitosamente en '../data/processed/final_predictions.csv'\")\n"
   ]
  },
  {
   "cell_type": "code",
   "execution_count": null,
   "id": "1e4e60b3-e5f8-4d95-9b7d-d5fce58a707c",
   "metadata": {},
   "outputs": [],
   "source": []
  }
 ],
 "metadata": {
  "kernelspec": {
   "display_name": "Python 3 (ipykernel)",
   "language": "python",
   "name": "python3"
  },
  "language_info": {
   "codemirror_mode": {
    "name": "ipython",
    "version": 3
   },
   "file_extension": ".py",
   "mimetype": "text/x-python",
   "name": "python",
   "nbconvert_exporter": "python",
   "pygments_lexer": "ipython3",
   "version": "3.11.5"
  }
 },
 "nbformat": 4,
 "nbformat_minor": 5
}
